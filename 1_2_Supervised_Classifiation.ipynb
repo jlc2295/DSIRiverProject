{
  "nbformat": 4,
  "nbformat_minor": 0,
  "metadata": {
    "colab": {
      "name": "1.2 Supervised Classifiation.ipynb",
      "provenance": [],
      "collapsed_sections": [],
      "include_colab_link": true
    },
    "kernelspec": {
      "name": "python3",
      "display_name": "Python 3"
    }
  },
  "cells": [
    {
      "cell_type": "markdown",
      "metadata": {
        "id": "view-in-github",
        "colab_type": "text"
      },
      "source": [
        "<a href=\"https://colab.research.google.com/github/jlc2295/DSIRiverProject/blob/master/1_2_Supervised_Classifiation.ipynb\" target=\"_parent\"><img src=\"https://colab.research.google.com/assets/colab-badge.svg\" alt=\"Open In Colab\"/></a>"
      ]
    },
    {
      "cell_type": "code",
      "metadata": {
        "id": "z6EG6rDSr62T",
        "colab_type": "code",
        "colab": {
          "base_uri": "https://localhost:8080/",
          "height": 173
        },
        "outputId": "9d43bb4a-f8d3-4df9-ec27-3b8520def9e4"
      },
      "source": [
        "import ee\n",
        "from IPython.display import Image\n",
        "\n",
        "# Trigger the authentication flow.\n",
        "ee.Authenticate()"
      ],
      "execution_count": 2,
      "outputs": [
        {
          "output_type": "stream",
          "text": [
            "To authorize access needed by Earth Engine, open the following URL in a web browser and follow the instructions. If the web browser does not start automatically, please manually browse the URL below.\n",
            "\n",
            "    https://accounts.google.com/o/oauth2/auth?client_id=517222506229-vsmmajv00ul0bs7p89v5m89qs8eb9359.apps.googleusercontent.com&scope=https%3A%2F%2Fwww.googleapis.com%2Fauth%2Fearthengine+https%3A%2F%2Fwww.googleapis.com%2Fauth%2Fdevstorage.full_control&redirect_uri=urn%3Aietf%3Awg%3Aoauth%3A2.0%3Aoob&response_type=code&code_challenge=yCLpy1T_iWNZ0smKt0X_f9esSKQEZ6nKVgby_4unyWE&code_challenge_method=S256\n",
            "\n",
            "The authorization workflow will generate a code, which you should paste in the box below. \n",
            "Enter verification code: 4/1wGfJXVcUJVeQCYmy2lsUv7BNC2E1X-Dh8xysCoj4HTGmZZAUhFv91c\n",
            "\n",
            "Successfully saved authorization token.\n"
          ],
          "name": "stdout"
        }
      ]
    },
    {
      "cell_type": "code",
      "metadata": {
        "id": "AMRF6lRtOYeQ",
        "colab_type": "code",
        "colab": {}
      },
      "source": [
        "ee.Initialize()\n",
        "\n",
        "def get_images(path_list, row_list, satellite, start_date, end_date, max_cloud_percentage):\n",
        "  coll = ee.ImageCollection(satellite).filterDate(start_date, end_date)\\\n",
        "            .filter(ee.Filter.inList('WRS_PATH', path_list))\\\n",
        "            .filter(ee.Filter.inList('WRS_ROW', row_list))\\\n",
        "            .filter(ee.Filter.lt('CLOUD_COVER', max_cloud_percentage))\n",
        "  image_ids = list(map(lambda x: x['id'], coll.getInfo()['features']))\n",
        "\n",
        "  images = list(map(lambda x: ee.Image(x), image_ids))\n",
        "  return images\n"
      ],
      "execution_count": 3,
      "outputs": []
    },
    {
      "cell_type": "code",
      "metadata": {
        "id": "G2NZI7QnxUJ2",
        "colab_type": "code",
        "colab": {
          "base_uri": "https://localhost:8080/",
          "height": 258
        },
        "outputId": "d71cb9af-fca1-418a-b8fc-897f038bad83"
      },
      "source": [
        "'''\n",
        "Functions needed to display images and features/featurecollections are given here. \n",
        "These functions are all from other sources. Mostly from google tutorials.\n",
        "'''\n",
        "!pip install geojson\n",
        "!pip install pygeoj\n",
        "import geojson\n",
        "import json\n",
        "import pygeoj\n",
        "import numpy as np\n",
        "\n",
        "import folium\n",
        "\n",
        "# Define a method for displaying Earth Engine image tiles to folium map.\n",
        "def add_ee_layer(self, ee_image_object, vis_params, name):\n",
        "  map_id_dict = ee.Image(ee_image_object).getMapId(vis_params)\n",
        "  folium.raster_layers.TileLayer(\n",
        "    tiles = map_id_dict['tile_fetcher'].url_format,\n",
        "    attr = \"Map Data © Google Earth Engine\",\n",
        "    name = name,\n",
        "    overlay = True,\n",
        "    control = True\n",
        "  ).add_to(self)\n",
        "\n",
        "# Add EE drawing method to folium.\n",
        "folium.Map.add_ee_layer = add_ee_layer\n",
        "\n",
        "#@title Mapdisplay: Display GEE objects using folium.\n",
        "def Mapdisplay(center, dicc, Tiles=\"OpensTreetMap\",zoom_start=10):\n",
        "    '''\n",
        "    :param center: Center of the map (Latitude and Longitude).\n",
        "    :param dicc: Earth Engine Geometries or Tiles dictionary\n",
        "    :param Tiles: Mapbox Bright,Mapbox Control Room,Stamen Terrain,Stamen Toner,stamenwatercolor,cartodbpositron.\n",
        "    :zoom_start: Initial zoom level for the map.\n",
        "    :return: A folium.Map object.\n",
        "    '''\n",
        "    mapViz = folium.Map(location=center,tiles=Tiles, zoom_start=zoom_start)\n",
        "    for k,v in dicc.items():\n",
        "      if ee.image.Image in [type(x) for x in v.values()]:\n",
        "        folium.TileLayer(\n",
        "            tiles = v[\"tile_fetcher\"].url_format,\n",
        "            attr  = 'Google Earth Engine',\n",
        "            overlay =True,\n",
        "            name  = k\n",
        "          ).add_to(mapViz)\n",
        "      else:\n",
        "        folium.GeoJson(\n",
        "        data = v,\n",
        "        name = k\n",
        "          ).add_to(mapViz)\n",
        "    mapViz.add_child(folium.LayerControl())\n",
        "    return mapViz"
      ],
      "execution_count": 4,
      "outputs": [
        {
          "output_type": "stream",
          "text": [
            "Collecting geojson\n",
            "  Downloading https://files.pythonhosted.org/packages/e4/8d/9e28e9af95739e6d2d2f8d4bef0b3432da40b7c3588fbad4298c1be09e48/geojson-2.5.0-py2.py3-none-any.whl\n",
            "Installing collected packages: geojson\n",
            "Successfully installed geojson-2.5.0\n",
            "Collecting pygeoj\n",
            "  Downloading https://files.pythonhosted.org/packages/f6/6c/c569e49b24beeef47dd15e02f583fb0ab0b3c95fffae71e8f5fe50a8297e/PyGeoj-1.0.0.tar.gz\n",
            "Building wheels for collected packages: pygeoj\n",
            "  Building wheel for pygeoj (setup.py) ... \u001b[?25l\u001b[?25hdone\n",
            "  Created wheel for pygeoj: filename=PyGeoj-1.0.0-cp36-none-any.whl size=10348 sha256=8a0587079d2ff9731934de51926985743b8093065a3e162640b31cd3a042dad4\n",
            "  Stored in directory: /root/.cache/pip/wheels/7d/7c/8e/3c82fc15ee9f04d8df3e59817d2ee5499a8413341d6476c7d8\n",
            "Successfully built pygeoj\n",
            "Installing collected packages: pygeoj\n",
            "Successfully installed pygeoj-1.0.0\n"
          ],
          "name": "stdout"
        }
      ]
    },
    {
      "cell_type": "code",
      "metadata": {
        "id": "1ruakrK6dUxA",
        "colab_type": "code",
        "colab": {}
      },
      "source": [
        "#Import polygons for supervised classification\n",
        "\n",
        "!pip install -U -q PyDrive\n",
        "import os\n",
        "from pydrive.auth import GoogleAuth\n",
        "from pydrive.drive import GoogleDrive\n",
        "from google.colab import auth\n",
        "from oauth2client.client import GoogleCredentials\n",
        "\n",
        "# 1. Authenticate and create the PyDrive client.\n",
        "auth.authenticate_user()\n",
        "gauth = GoogleAuth()\n",
        "gauth.credentials = GoogleCredentials.get_application_default()\n",
        "drive = GoogleDrive(gauth)"
      ],
      "execution_count": 5,
      "outputs": []
    },
    {
      "cell_type": "code",
      "metadata": {
        "id": "iHZW4HgVdguk",
        "colab_type": "code",
        "colab": {
          "base_uri": "https://localhost:8080/",
          "height": 241
        },
        "outputId": "8b29a48b-5591-4140-b1c9-e9b9343b6f93"
      },
      "source": [
        "# choose a local (colab) directory to store the data.\n",
        "local_download_path = os.path.expanduser('~/data')\n",
        "try:\n",
        "  os.makedirs(local_download_path)\n",
        "except: pass\n",
        "\n",
        "# 2. Auto-iterate using the query syntax\n",
        "#    https://developers.google.com/drive/v2/web/search-parameters\n",
        "file_list = drive.ListFile(\n",
        "    {'q': \"'1Gf4TqCciu4LZFZ7VQBaaZlBpIrBpyZ1l' in parents\"}).GetList()\n",
        "\n",
        "for f in file_list:\n",
        "  # 3. Create & download by id.\n",
        "  print('title: %s, id: %s' % (f['title'], f['id']))\n",
        "  fname = os.path.join(local_download_path, f['title'])\n",
        "  print('downloading to {}'.format(fname))\n",
        "  f_ = drive.CreateFile({'id': f['id']})\n",
        "  f_.GetContentFile(fname)\n",
        "\n",
        "with open(fname, 'r') as f:\n",
        "  print(f.read())"
      ],
      "execution_count": 6,
      "outputs": [
        {
          "output_type": "stream",
          "text": [
            "title: water2.json, id: 1cz2TK_LMBLVBxVmhuEpE3kr9bgkujoGQ\n",
            "downloading to /root/data/water2.json\n",
            "title: water1.json, id: 1n4WrjynqhBpN9WtkNwuP_XcaPLxxBH7x\n",
            "downloading to /root/data/water1.json\n",
            "title: nonwater2.json, id: 1mb8W8iHemXIm-nVddExrZ4ejDQglo3RP\n",
            "downloading to /root/data/nonwater2.json\n",
            "title: nonwater1.json, id: 1E0MJWaY9vwxk3RkTCx0PAYm0l4bae4k0\n",
            "downloading to /root/data/nonwater1.json\n",
            "{\"type\":\"FeatureCollection\",\"features\":[\n",
            "{\"type\":\"Feature\",\"geometry\":{\"type\":\"Polygon\",\"coordinates\":[[[-122.42123859839,37.7490213426433,0],[-122.418823285194,37.7442911094521,0],[-122.418050993777,37.7429443091202,0],[-122.413332130966,37.7410214428332,0],[-122.412616460707,37.7410252826137,0],[-122.410672628798,37.741312986586,0],[-122.410519780595,37.7414333300924,0],[-122.408674015725,37.7436859960884,0],[-122.408461803442,37.7442934196917,0],[-122.408453225454,37.7447010810645,0],[-122.408436112952,37.7454381757864,0],[-122.42123859839,37.7490213426433,0]]]},\"properties\":{\"name\":\"nonwater1\",\"tessellate\":true}}\n",
            "]}\n",
            "\n"
          ],
          "name": "stdout"
        }
      ]
    },
    {
      "cell_type": "code",
      "metadata": {
        "id": "U9C3e7pPguuY",
        "colab_type": "code",
        "colab": {
          "base_uri": "https://localhost:8080/",
          "height": 122
        },
        "outputId": "9f134179-d7d3-4c58-fcfb-38d7e5df9104"
      },
      "source": [
        "#How is this different from what we did above? Is above necessary?\n",
        "from google.colab import drive\n",
        "drive.mount('/content/drive')"
      ],
      "execution_count": null,
      "outputs": [
        {
          "output_type": "stream",
          "text": [
            "Go to this URL in a browser: https://accounts.google.com/o/oauth2/auth?client_id=947318989803-6bn6qk8qdgf4n4g3pfee6491hc0brc4i.apps.googleusercontent.com&redirect_uri=urn%3aietf%3awg%3aoauth%3a2.0%3aoob&response_type=code&scope=email%20https%3a%2f%2fwww.googleapis.com%2fauth%2fdocs.test%20https%3a%2f%2fwww.googleapis.com%2fauth%2fdrive%20https%3a%2f%2fwww.googleapis.com%2fauth%2fdrive.photos.readonly%20https%3a%2f%2fwww.googleapis.com%2fauth%2fpeopleapi.readonly\n",
            "\n",
            "Enter your authorization code:\n",
            "··········\n",
            "Mounted at /content/drive\n"
          ],
          "name": "stdout"
        }
      ]
    },
    {
      "cell_type": "code",
      "metadata": {
        "id": "oN0M7_iDwqXH",
        "colab_type": "code",
        "colab": {
          "base_uri": "https://localhost:8080/",
          "height": 630
        },
        "outputId": "14a21485-754e-40a6-93df-8f9241936e42"
      },
      "source": [
        "jsonfiles = ['water1.json','water2.json','nonwater1.json','nonwater2.json']\n",
        "classalloc = [1, 1, 0, 0];\n",
        "\n",
        "coords_dict = {}\n",
        "ee_dict = {}\n",
        "randomPts_dict = {}\n",
        "features_dict = {}\n",
        "\n",
        "n = 0\n",
        "for jsonfile in jsonfiles:\n",
        "    jsonfilepath = '/root/data/'+ jsonfile\n",
        "    with open(jsonfilepath) as f:\n",
        "        data = geojson.load(f)\n",
        "\n",
        "    #creating a dictionary of coordinates\n",
        "    coords_dict[jsonfile + 'coords'] = np.array(data['features'][0]['geometry']['coordinates'][0])[:,0:2].tolist()\n",
        "    \n",
        "    #creating a polygon from coordinate list\n",
        "    ee_dict[jsonfile + 'ee'] = ee.Geometry.Polygon(coords_dict[jsonfile + 'coords'])\n",
        "    \n",
        "    \n",
        "    #randomPoints = ee.FeatureCollection.randomPoints(region=ee_dict[jsonfile + 'ee'],points=100, {'name': jsonfile, 'landcover': classalloc[n]})\n",
        "    randomPoints = ee.FeatureCollection.randomPoints(region=ee_dict[jsonfile + 'ee'],points=30)\n",
        "    \n",
        "    def addProp(feature):\n",
        "      return feature.set({'landcover': classalloc[n]})\n",
        "\n",
        "    randomPoints = randomPoints.map(addProp) #This is to add a property named\n",
        "    \n",
        "    #randomPts_dict[jsonfile+'Pts'] = ee.Feature(ee.Geometry.MultiPoint(ee.List(coords_dict[jsonfile + 'coords'])), \n",
        "    #                                            {'name': jsonfile, 'class': classalloc[n]})\n",
        "    \n",
        "    randomPts_dict[jsonfile+'Pts'] = randomPoints\n",
        "    \n",
        "    \n",
        "    \n",
        "    #randomPts_dict[jsonfile + 'rdnmPts'] = ee.FeatureCollection.randomPoints(ee_dict[jsonfile + 'ee'], 100)\n",
        "    features_dict[jsonfile + 'feature'] = ee.Feature(ee_dict[jsonfile + 'ee'], {'name': jsonfile, 'landcover': classalloc[n]})\n",
        "\n",
        "    n = n+1\n",
        "\n",
        "'''\n",
        "The individual features are combined as shown below to create a feature collection.\n",
        "\n",
        "You can get some information about the features in the collection using commands as shown below.\n",
        "'''\n",
        "sfFC = ee.FeatureCollection(list(features_dict.values()))\n",
        "\n",
        "sfFCpts = ee.FeatureCollection(list(randomPts_dict.values()))\n",
        "\n",
        "fc = ee.FeatureCollection([])\n",
        "for x in randomPts_dict.keys():\n",
        "    #print(x) #I had used this to make sure the loop was okay\n",
        "    fc = fc.merge(randomPts_dict[x])\n",
        "\n",
        "\n",
        "print(sfFC.size().getInfo())\n",
        "\n",
        "print(type(sfFC.getInfo()))\n",
        "\n",
        "print(sfFC.getInfo()['features'][3]['properties'])\n",
        "\n",
        "\n",
        "'''\n",
        "Displaying a featurecollection\n",
        "'''\n",
        "sfFC_centroid = sfFC.geometry().centroid().getInfo()['coordinates']\n",
        "sfFC_centroid.reverse()\n",
        "#Mapdisplay(sfFC_centroid,{'sfFC':sfFC.getInfo()},zoom_start=10)\n",
        "Mapdisplay(sfFC_centroid, {'rndmPts': fc.getInfo()}, zoom_start=10) \n",
        "\n"
      ],
      "execution_count": 7,
      "outputs": [
        {
          "output_type": "stream",
          "text": [
            "4\n",
            "<class 'dict'>\n",
            "{'landcover': 0, 'name': 'nonwater2.json'}\n"
          ],
          "name": "stdout"
        },
        {
          "output_type": "execute_result",
          "data": {
            "text/html": [
              "<div style=\"width:100%;\"><div style=\"position:relative;width:100%;height:0;padding-bottom:60%;\"><span style=\"color:#565656\">Make this Notebook Trusted to load map: File -> Trust Notebook</span><iframe src=\"about:blank\" style=\"position:absolute;width:100%;height:100%;left:0;top:0;border:none !important;\" data-html=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 onload=\"this.contentDocument.open();this.contentDocument.write(atob(this.getAttribute('data-html')));this.contentDocument.close();\" allowfullscreen webkitallowfullscreen mozallowfullscreen></iframe></div></div>"
            ],
            "text/plain": [
              "<folium.folium.Map at 0x7ff3793ab780>"
            ]
          },
          "metadata": {
            "tags": []
          },
          "execution_count": 7
        }
      ]
    },
    {
      "cell_type": "code",
      "metadata": {
        "id": "O04c-IIDOmCk",
        "colab_type": "code",
        "colab": {}
      },
      "source": [
        "#Create list of images from location\n",
        "\n",
        "import ee.mapclient\n",
        "\n",
        "#image = np.array([ee.Image('LANDSAT/LC08/C01/T1_TOA/LC08_044034_20140318')])\n",
        "path = [44]\n",
        "row = [34]\n",
        "satellite = 'LANDSAT/LC08/C01/T1_TOA'\n",
        "start_date = '2014-03-18'\n",
        "end_date = '2016-03-18'\n",
        "cc = 10\n",
        "image_list = get_images(path, row, satellite, start_date, end_date, cc)"
      ],
      "execution_count": 9,
      "outputs": []
    },
    {
      "cell_type": "code",
      "metadata": {
        "id": "WHsS38lWAFwL",
        "colab_type": "code",
        "colab": {}
      },
      "source": [
        "sfsite = ee.Geometry.Rectangle([-74.04, 40.69, -73.82, 40.94]);\n",
        "\n",
        "parameters = {'min': 0.0,\n",
        "              'max': 16000.0,\n",
        "              'dimensions': 600,\n",
        "              'bands': ['B4', 'B3', 'B2']}\n",
        "\n",
        "#Image(url = image0.clip(sfsite).getThumbUrl(parameters))"
      ],
      "execution_count": 10,
      "outputs": []
    },
    {
      "cell_type": "code",
      "metadata": {
        "id": "nRDx8yzEAn7w",
        "colab_type": "code",
        "colab": {}
      },
      "source": [
        "'''\n",
        "Second step in any supervised classification process - training using the training data. The corresponding\n",
        "code in Google EE tutorial is as follows:\n",
        "// Get the values for all pixels in each polygon in the training.\n",
        "var training = image.sampleRegions({\n",
        "  // Get the sample from the polygons FeatureCollection.\n",
        "  collection: polygons,\n",
        "  // Keep this list of properties from the polygons.\n",
        "  properties: ['class'],\n",
        "  // Set the scale to get Landsat pixels in the polygons.\n",
        "  scale: 30\n",
        "});\n",
        "\n",
        "The code is in javascript. I had to convert it to Python. Mistakes could be created/transmitted because of this\n",
        "translation\n",
        "'''\n",
        "bands = ['B2', 'B3', 'B4', 'B5', 'B6', 'B7', 'B10', 'B11']\n",
        "#bands = ['B2', 'B3', 'B4', 'B5', 'B6', 'B7']\n",
        "\n",
        "def training (image):\n",
        "  training_image = image.select(bands).sampleRegions(collection =  fc, properties = ['landcover'], scale = 30.0)\n",
        "  #print(training.geometry().getInfo()['type'])\n",
        "\n",
        "  '''\n",
        "  We can view feature collections using Mapdisplay, the function we encountered earlier. THe way to do it is as follows:\n",
        "  Mapdisplay(center,dicc={'poly1':hudson02ee.getInfo(),'poly2':hudson01ee.getInfo(), 'poly3': Astoria01ee.getInfo(), 'poly4': Bronx01ee.getInfo()},zoom_start=2)\n",
        "  '''\n",
        "\n",
        "  training_centroid = training_image.geometry().centroid().getInfo()['coordinates']\n",
        "  training_centroid.reverse()\n",
        "\n",
        "  '''\n",
        "  training_centroid is also a featurecollection but different from nycFC. Try print(training.size().getInfo()) - \n",
        "  you'll see that the size is about 20000, not 4. Since I cannot display training, I think there must be a mistake \n",
        "  right here. Need to rectify this - understand image.sampleRegions better before proceeding further.\n",
        "  '''\n",
        "  #Train the classifier.\n",
        "  #var trained = classifier.train(training, 'class', bands);\n",
        "  #trained = classifier.train(training, 'landcover', bands);\n",
        "  trained = ee.Classifier.smileCart().train(training_image, 'landcover', bands)\n",
        "  #print(type(trained))\n",
        "\n",
        "  #Classify the image.\n",
        "  '''\n",
        "  This is the step at which the code is failing. If I try to interrogate classified in anyway, the computation is \n",
        "  never completed. For example, if I did classified.getInfo(), an asterix * would appear next to the cell, never to \n",
        "  finish.\n",
        "  '''\n",
        "  classified = image.select(bands).classify(trained)\n",
        "  return classified\n",
        "\n",
        "  #print(type(classified))"
      ],
      "execution_count": 20,
      "outputs": []
    },
    {
      "cell_type": "code",
      "metadata": {
        "id": "XQ0kVrAkCK_v",
        "colab_type": "code",
        "colab": {
          "base_uri": "https://localhost:8080/",
          "height": 579
        },
        "outputId": "f3ab2ab3-52cf-47a2-ec6a-d3cdda05b58e"
      },
      "source": [
        "# Create a folium map object.\n",
        "my_map = folium.Map(location=[37.764232, -122.348913], zoom_start=9, height=500)\n",
        "#location should be given as latitude, longitude\n",
        "\n",
        "for image in image_list:\n",
        "  my_map.add_ee_layer(image, {'bands': ['B4', 'B3', 'B2'], 'max': 16000, 'gamma': 2}, 'image')\n",
        "\n",
        "display(my_map)"
      ],
      "execution_count": 21,
      "outputs": [
        {
          "output_type": "display_data",
          "data": {
            "text/html": [
              "<div style=\"width:100%;\"><div style=\"position:relative;width:100%;height:0;padding-bottom:60%;\"><span style=\"color:#565656\">Make this Notebook Trusted to load map: File -> Trust Notebook</span><iframe src=\"about:blank\" style=\"position:absolute;width:100%;height:100%;left:0;top:0;border:none !important;\" data-html=PCFET0NUWVBFIGh0bWw+CjxoZWFkPiAgICAKICAgIDxtZXRhIGh0dHAtZXF1aXY9ImNvbnRlbnQtdHlwZSIgY29udGVudD0idGV4dC9odG1sOyBjaGFyc2V0PVVURi04IiAvPgogICAgPHNjcmlwdD5MX1BSRUZFUl9DQU5WQVM9ZmFsc2U7IExfTk9fVE9VQ0g9ZmFsc2U7IExfRElTQUJMRV8zRD1mYWxzZTs8L3NjcmlwdD4KICAgIDxzY3JpcHQgc3JjPSJodHRwczovL2Nkbi5qc2RlbGl2ci5uZXQvbnBtL2xlYWZsZXRAMS40LjAvZGlzdC9sZWFmbGV0LmpzIj48L3NjcmlwdD4KICAgIDxzY3JpcHQgc3JjPSJodHRwczovL2NvZGUuanF1ZXJ5LmNvbS9qcXVlcnktMS4xMi40Lm1pbi5qcyI+PC9zY3JpcHQ+CiAgICA8c2NyaXB0IHNyYz0iaHR0cHM6Ly9tYXhjZG4uYm9vdHN0cmFwY2RuLmNvbS9ib290c3RyYXAvMy4yLjAvanMvYm9vdHN0cmFwLm1pbi5qcyI+PC9zY3JpcHQ+CiAgICA8c2NyaXB0IHNyYz0iaHR0cHM6Ly9jZG5qcy5jbG91ZGZsYXJlLmNvbS9hamF4L2xpYnMvTGVhZmxldC5hd2Vzb21lLW1hcmtlcnMvMi4wLjIvbGVhZmxldC5hd2Vzb21lLW1hcmtlcnMuanMiPjwvc2NyaXB0PgogICAgPGxpbmsgcmVsPSJzdHlsZXNoZWV0IiBocmVmPSJodHRwczovL2Nkbi5qc2RlbGl2ci5uZXQvbnBtL2xlYWZsZXRAMS40LjAvZGlzdC9sZWFmbGV0LmNzcyIvPgogICAgPGxpbmsgcmVsPSJzdHlsZXNoZWV0IiBocmVmPSJodHRwczovL21heGNkbi5ib290c3RyYXBjZG4uY29tL2Jvb3RzdHJhcC8zLjIuMC9jc3MvYm9vdHN0cmFwLm1pbi5jc3MiLz4KICAgIDxsaW5rIHJlbD0ic3R5bGVzaGVldCIgaHJlZj0iaHR0cHM6Ly9tYXhjZG4uYm9vdHN0cmFwY2RuLmNvbS9ib290c3RyYXAvMy4yLjAvY3NzL2Jvb3RzdHJhcC10aGVtZS5taW4uY3NzIi8+CiAgICA8bGluayByZWw9InN0eWxlc2hlZXQiIGhyZWY9Imh0dHBzOi8vbWF4Y2RuLmJvb3RzdHJhcGNkbi5jb20vZm9udC1hd2Vzb21lLzQuNi4zL2Nzcy9mb250LWF3ZXNvbWUubWluLmNzcyIvPgogICAgPGxpbmsgcmVsPSJzdHlsZXNoZWV0IiBocmVmPSJodHRwczovL2NkbmpzLmNsb3VkZmxhcmUuY29tL2FqYXgvbGlicy9MZWFmbGV0LmF3ZXNvbWUtbWFya2Vycy8yLjAuMi9sZWFmbGV0LmF3ZXNvbWUtbWFya2Vycy5jc3MiLz4KICAgIDxsaW5rIHJlbD0ic3R5bGVzaGVldCIgaHJlZj0iaHR0cHM6Ly9yYXdjZG4uZ2l0aGFjay5jb20vcHl0aG9uLXZpc3VhbGl6YXRpb24vZm9saXVtL21hc3Rlci9mb2xpdW0vdGVtcGxhdGVzL2xlYWZsZXQuYXdlc29tZS5yb3RhdGUuY3NzIi8+CiAgICA8c3R5bGU+aHRtbCwgYm9keSB7d2lkdGg6IDEwMCU7aGVpZ2h0OiAxMDAlO21hcmdpbjogMDtwYWRkaW5nOiAwO308L3N0eWxlPgogICAgPHN0eWxlPiNtYXAge3Bvc2l0aW9uOmFic29sdXRlO3RvcDowO2JvdHRvbTowO3JpZ2h0OjA7bGVmdDowO308L3N0eWxlPgogICAgCiAgICA8bWV0YSBuYW1lPSJ2aWV3cG9ydCIgY29udGVudD0id2lkdGg9ZGV2aWNlLXdpZHRoLAogICAgICAgIGluaXRpYWwtc2NhbGU9MS4wLCBtYXhpbXVtLXNjYWxlPTEuMCwgdXNlci1zY2FsYWJsZT1ubyIgLz4KICAgIDxzdHlsZT4jbWFwX2JhNTM2Nzc5MGY1NDQ0MzRhNmQ2M2E2NjM5YmJiZjk0IHsKICAgICAgICBwb3NpdGlvbjogcmVsYXRpdmU7CiAgICAgICAgd2lkdGg6IDEwMC4wJTsKICAgICAgICBoZWlnaHQ6IDUwMC4wcHg7CiAgICAgICAgbGVmdDogMC4wJTsKICAgICAgICB0b3A6IDAuMCU7CiAgICAgICAgfQogICAgPC9zdHlsZT4KPC9oZWFkPgo8Ym9keT4gICAgCiAgICAKICAgIDxkaXYgY2xhc3M9ImZvbGl1bS1tYXAiIGlkPSJtYXBfYmE1MzY3NzkwZjU0NDQzNGE2ZDYzYTY2MzliYmJmOTQiID48L2Rpdj4KPC9ib2R5Pgo8c2NyaXB0PiAgICAKICAgIAogICAgCiAgICAgICAgdmFyIGJvdW5kcyA9IG51bGw7CiAgICAKCiAgICB2YXIgbWFwX2JhNTM2Nzc5MGY1NDQ0MzRhNmQ2M2E2NjM5YmJiZjk0ID0gTC5tYXAoCiAgICAgICAgJ21hcF9iYTUzNjc3OTBmNTQ0NDM0YTZkNjNhNjYzOWJiYmY5NCcsIHsKICAgICAgICBjZW50ZXI6IFszNy43NjQyMzIsIC0xMjIuMzQ4OTEzXSwKICAgICAgICB6b29tOiA5LAogICAgICAgIG1heEJvdW5kczogYm91bmRzLAogICAgICAgIGxheWVyczogW10sCiAgICAgICAgd29ybGRDb3B5SnVtcDogZmFsc2UsCiAgICAgICAgY3JzOiBMLkNSUy5FUFNHMzg1NywKICAgICAgICB6b29tQ29udHJvbDogdHJ1ZSwKICAgICAgICB9KTsKCgogICAgCiAgICB2YXIgdGlsZV9sYXllcl8yZjU3ODc1ZDA4OTM0NjQyYjNhODVhMWY1M2NmNzYyMCA9IEwudGlsZUxheWVyKAogICAgICAgICdodHRwczovL3tzfS50aWxlLm9wZW5zdHJlZXRtYXAub3JnL3t6fS97eH0ve3l9LnBuZycsCiAgICAgICAgewogICAgICAgICJhdHRyaWJ1dGlvbiI6IG51bGwsCiAgICAgICAgImRldGVjdFJldGluYSI6IGZhbHNlLAogICAgICAgICJtYXhOYXRpdmVab29tIjogMTgsCiAgICAgICAgIm1heFpvb20iOiAxOCwKICAgICAgICAibWluWm9vbSI6IDAsCiAgICAgICAgIm5vV3JhcCI6IGZhbHNlLAogICAgICAgICJvcGFjaXR5IjogMSwKICAgICAgICAic3ViZG9tYWlucyI6ICJhYmMiLAogICAgICAgICJ0bXMiOiBmYWxzZQp9KS5hZGRUbyhtYXBfYmE1MzY3NzkwZjU0NDQzNGE2ZDYzYTY2MzliYmJmOTQpOwogICAgdmFyIHRpbGVfbGF5ZXJfYmE5OTQzNjdmY2FjNDM5N2E5MTZjZDI2MzY0ZjhjZjYgPSBMLnRpbGVMYXllcigKICAgICAgICAnaHR0cHM6Ly9lYXJ0aGVuZ2luZS5nb29nbGVhcGlzLmNvbS92MWFscGhhL3Byb2plY3RzL2VhcnRoZW5naW5lLWxlZ2FjeS9tYXBzLzgzZGU3NWE3YWQyN2I5YWQxNmQ4MzhjMmRlZjFkMTU0LTY4YTg1NzkwYjFhYzYxMmRjNmMxOWU4N2E4MGJiMDUzL3RpbGVzL3t6fS97eH0ve3l9JywKICAgICAgICB7CiAgICAgICAgImF0dHJpYnV0aW9uIjogIk1hcCBEYXRhIFx1MDBhOSBHb29nbGUgRWFydGggRW5naW5lIiwKICAgICAgICAiZGV0ZWN0UmV0aW5hIjogZmFsc2UsCiAgICAgICAgIm1heE5hdGl2ZVpvb20iOiAxOCwKICAgICAgICAibWF4Wm9vbSI6IDE4LAogICAgICAgICJtaW5ab29tIjogMCwKICAgICAgICAibm9XcmFwIjogZmFsc2UsCiAgICAgICAgIm9wYWNpdHkiOiAxLAogICAgICAgICJzdWJkb21haW5zIjogImFiYyIsCiAgICAgICAgInRtcyI6IGZhbHNlCn0pLmFkZFRvKG1hcF9iYTUzNjc3OTBmNTQ0NDM0YTZkNjNhNjYzOWJiYmY5NCk7CiAgICB2YXIgdGlsZV9sYXllcl83YjcyOTEyNjliNzY0ZjM0OGQxZjQ1ZmY4OGExYTNiMyA9IEwudGlsZUxheWVyKAogICAgICAgICdodHRwczovL2VhcnRoZW5naW5lLmdvb2dsZWFwaXMuY29tL3YxYWxwaGEvcHJvamVjdHMvZWFydGhlbmdpbmUtbGVnYWN5L21hcHMvMjYxMTIyZmNhNWZhMzU1ZWQ2M2Y4MWViZTUwODNmMWMtM2E4NDg0ZmI0NWFjNzMxZTQ5MmMxYTcxZDVkMmUwOWUvdGlsZXMve3p9L3t4fS97eX0nLAogICAgICAgIHsKICAgICAgICAiYXR0cmlidXRpb24iOiAiTWFwIERhdGEgXHUwMGE5IEdvb2dsZSBFYXJ0aCBFbmdpbmUiLAogICAgICAgICJkZXRlY3RSZXRpbmEiOiBmYWxzZSwKICAgICAgICAibWF4TmF0aXZlWm9vbSI6IDE4LAogICAgICAgICJtYXhab29tIjogMTgsCiAgICAgICAgIm1pblpvb20iOiAwLAogICAgICAgICJub1dyYXAiOiBmYWxzZSwKICAgICAgICAib3BhY2l0eSI6IDEsCiAgICAgICAgInN1YmRvbWFpbnMiOiAiYWJjIiwKICAgICAgICAidG1zIjogZmFsc2UKfSkuYWRkVG8obWFwX2JhNTM2Nzc5MGY1NDQ0MzRhNmQ2M2E2NjM5YmJiZjk0KTsKICAgIHZhciB0aWxlX2xheWVyXzhjM2YzNWZmMDkzODQ4YzFhZDA4OGRhOWVlNjVkZmQzID0gTC50aWxlTGF5ZXIoCiAgICAgICAgJ2h0dHBzOi8vZWFydGhlbmdpbmUuZ29vZ2xlYXBpcy5jb20vdjFhbHBoYS9wcm9qZWN0cy9lYXJ0aGVuZ2luZS1sZWdhY3kvbWFwcy8wZGMyMmEyODEwMzA3ZWNhNjM2ZmQxZWNiMTQ0Zjc5My1kYjRjYTU3ZmFkN2ZjNDFlZGIyYTAxZGY3NTE0NDE0Ni90aWxlcy97en0ve3h9L3t5fScsCiAgICAgICAgewogICAgICAgICJhdHRyaWJ1dGlvbiI6ICJNYXAgRGF0YSBcdTAwYTkgR29vZ2xlIEVhcnRoIEVuZ2luZSIsCiAgICAgICAgImRldGVjdFJldGluYSI6IGZhbHNlLAogICAgICAgICJtYXhOYXRpdmVab29tIjogMTgsCiAgICAgICAgIm1heFpvb20iOiAxOCwKICAgICAgICAibWluWm9vbSI6IDAsCiAgICAgICAgIm5vV3JhcCI6IGZhbHNlLAogICAgICAgICJvcGFjaXR5IjogMSwKICAgICAgICAic3ViZG9tYWlucyI6ICJhYmMiLAogICAgICAgICJ0bXMiOiBmYWxzZQp9KS5hZGRUbyhtYXBfYmE1MzY3NzkwZjU0NDQzNGE2ZDYzYTY2MzliYmJmOTQpOwogICAgdmFyIHRpbGVfbGF5ZXJfNWM0NGU4ZGVkNzk1NGQ2YWI4YTUzYjQxMTdmZjc3MDcgPSBMLnRpbGVMYXllcigKICAgICAgICAnaHR0cHM6Ly9lYXJ0aGVuZ2luZS5nb29nbGVhcGlzLmNvbS92MWFscGhhL3Byb2plY3RzL2VhcnRoZW5naW5lLWxlZ2FjeS9tYXBzL2FiZjc1Mjc5MjNjN2JjMGFkMTNjMzAyYjAxNTU2MmRiLTJmZDYwYzk0MDJjMTFjMzZlMDEzYjA1ZTcwYTI0MWE2L3RpbGVzL3t6fS97eH0ve3l9JywKICAgICAgICB7CiAgICAgICAgImF0dHJpYnV0aW9uIjogIk1hcCBEYXRhIFx1MDBhOSBHb29nbGUgRWFydGggRW5naW5lIiwKICAgICAgICAiZGV0ZWN0UmV0aW5hIjogZmFsc2UsCiAgICAgICAgIm1heE5hdGl2ZVpvb20iOiAxOCwKICAgICAgICAibWF4Wm9vbSI6IDE4LAogICAgICAgICJtaW5ab29tIjogMCwKICAgICAgICAibm9XcmFwIjogZmFsc2UsCiAgICAgICAgIm9wYWNpdHkiOiAxLAogICAgICAgICJzdWJkb21haW5zIjogImFiYyIsCiAgICAgICAgInRtcyI6IGZhbHNlCn0pLmFkZFRvKG1hcF9iYTUzNjc3OTBmNTQ0NDM0YTZkNjNhNjYzOWJiYmY5NCk7CiAgICB2YXIgdGlsZV9sYXllcl84YmQ1Y2FkMTY4Zjc0NjEyOGMxMzVkMjIzN2RiYTdhMiA9IEwudGlsZUxheWVyKAogICAgICAgICdodHRwczovL2VhcnRoZW5naW5lLmdvb2dsZWFwaXMuY29tL3YxYWxwaGEvcHJvamVjdHMvZWFydGhlbmdpbmUtbGVnYWN5L21hcHMvMDZmMTc0MzY1MGQ2NjVjYWY2ZWZmYTJjODVkYmQwMWUtYzZmY2Q1MzhjZTA3NTI4NWU3NzI4MzJhZGExMjY3ZTAvdGlsZXMve3p9L3t4fS97eX0nLAogICAgICAgIHsKICAgICAgICAiYXR0cmlidXRpb24iOiAiTWFwIERhdGEgXHUwMGE5IEdvb2dsZSBFYXJ0aCBFbmdpbmUiLAogICAgICAgICJkZXRlY3RSZXRpbmEiOiBmYWxzZSwKICAgICAgICAibWF4TmF0aXZlWm9vbSI6IDE4LAogICAgICAgICJtYXhab29tIjogMTgsCiAgICAgICAgIm1pblpvb20iOiAwLAogICAgICAgICJub1dyYXAiOiBmYWxzZSwKICAgICAgICAib3BhY2l0eSI6IDEsCiAgICAgICAgInN1YmRvbWFpbnMiOiAiYWJjIiwKICAgICAgICAidG1zIjogZmFsc2UKfSkuYWRkVG8obWFwX2JhNTM2Nzc5MGY1NDQ0MzRhNmQ2M2E2NjM5YmJiZjk0KTsKICAgIHZhciB0aWxlX2xheWVyXzZmYzI2ZGM1NGEwYTQ4NWJhOTFjMzA3NjhkNjYyNTgwID0gTC50aWxlTGF5ZXIoCiAgICAgICAgJ2h0dHBzOi8vZWFydGhlbmdpbmUuZ29vZ2xlYXBpcy5jb20vdjFhbHBoYS9wcm9qZWN0cy9lYXJ0aGVuZ2luZS1sZWdhY3kvbWFwcy9jMGVmM2NhZThhYTFmMjA2NTdiZGJjMWE4M2Y0ZjY2MC00YzY2ZjNiMzYzMjRhOGEzN2EwOTJkZjkyMDFiODM0OC90aWxlcy97en0ve3h9L3t5fScsCiAgICAgICAgewogICAgICAgICJhdHRyaWJ1dGlvbiI6ICJNYXAgRGF0YSBcdTAwYTkgR29vZ2xlIEVhcnRoIEVuZ2luZSIsCiAgICAgICAgImRldGVjdFJldGluYSI6IGZhbHNlLAogICAgICAgICJtYXhOYXRpdmVab29tIjogMTgsCiAgICAgICAgIm1heFpvb20iOiAxOCwKICAgICAgICAibWluWm9vbSI6IDAsCiAgICAgICAgIm5vV3JhcCI6IGZhbHNlLAogICAgICAgICJvcGFjaXR5IjogMSwKICAgICAgICAic3ViZG9tYWlucyI6ICJhYmMiLAogICAgICAgICJ0bXMiOiBmYWxzZQp9KS5hZGRUbyhtYXBfYmE1MzY3NzkwZjU0NDQzNGE2ZDYzYTY2MzliYmJmOTQpOwogICAgdmFyIHRpbGVfbGF5ZXJfNTA3OTE2MmY0YmUwNGU1MWJiZDIzNGE2YzQxOWIwNDAgPSBMLnRpbGVMYXllcigKICAgICAgICAnaHR0cHM6Ly9lYXJ0aGVuZ2luZS5nb29nbGVhcGlzLmNvbS92MWFscGhhL3Byb2plY3RzL2VhcnRoZW5naW5lLWxlZ2FjeS9tYXBzLzI0NjA5ZDBiYTlhYjM1NzNmYzFmMmRhMTA5ZmFiYjU0LTgyMTM3NDA1NjA5YjRlNDgyM2M5MzFkMjY4ZjhjZDUxL3RpbGVzL3t6fS97eH0ve3l9JywKICAgICAgICB7CiAgICAgICAgImF0dHJpYnV0aW9uIjogIk1hcCBEYXRhIFx1MDBhOSBHb29nbGUgRWFydGggRW5naW5lIiwKICAgICAgICAiZGV0ZWN0UmV0aW5hIjogZmFsc2UsCiAgICAgICAgIm1heE5hdGl2ZVpvb20iOiAxOCwKICAgICAgICAibWF4Wm9vbSI6IDE4LAogICAgICAgICJtaW5ab29tIjogMCwKICAgICAgICAibm9XcmFwIjogZmFsc2UsCiAgICAgICAgIm9wYWNpdHkiOiAxLAogICAgICAgICJzdWJkb21haW5zIjogImFiYyIsCiAgICAgICAgInRtcyI6IGZhbHNlCn0pLmFkZFRvKG1hcF9iYTUzNjc3OTBmNTQ0NDM0YTZkNjNhNjYzOWJiYmY5NCk7CiAgICB2YXIgdGlsZV9sYXllcl9jYjZjMDllYjY1Mzg0NDIyODdjZmFiMDBjNTNkZDExOCA9IEwudGlsZUxheWVyKAogICAgICAgICdodHRwczovL2VhcnRoZW5naW5lLmdvb2dsZWFwaXMuY29tL3YxYWxwaGEvcHJvamVjdHMvZWFydGhlbmdpbmUtbGVnYWN5L21hcHMvZGI4MzZhMTc5YmI0OWQ1ZWE2YzhhMWUzN2I0NDA2ZTUtNjY4MWQ5MTZlNWViMzA5OWM4NDJjN2E2MGY2MjQ4OTgvdGlsZXMve3p9L3t4fS97eX0nLAogICAgICAgIHsKICAgICAgICAiYXR0cmlidXRpb24iOiAiTWFwIERhdGEgXHUwMGE5IEdvb2dsZSBFYXJ0aCBFbmdpbmUiLAogICAgICAgICJkZXRlY3RSZXRpbmEiOiBmYWxzZSwKICAgICAgICAibWF4TmF0aXZlWm9vbSI6IDE4LAogICAgICAgICJtYXhab29tIjogMTgsCiAgICAgICAgIm1pblpvb20iOiAwLAogICAgICAgICJub1dyYXAiOiBmYWxzZSwKICAgICAgICAib3BhY2l0eSI6IDEsCiAgICAgICAgInN1YmRvbWFpbnMiOiAiYWJjIiwKICAgICAgICAidG1zIjogZmFsc2UKfSkuYWRkVG8obWFwX2JhNTM2Nzc5MGY1NDQ0MzRhNmQ2M2E2NjM5YmJiZjk0KTsKICAgIHZhciB0aWxlX2xheWVyXzM2MjNiZjMwOTM1YzRkNTg4YWYwZmY1M2JmNjE3YmRkID0gTC50aWxlTGF5ZXIoCiAgICAgICAgJ2h0dHBzOi8vZWFydGhlbmdpbmUuZ29vZ2xlYXBpcy5jb20vdjFhbHBoYS9wcm9qZWN0cy9lYXJ0aGVuZ2luZS1sZWdhY3kvbWFwcy80NDM0ODNmYTY3YzY2NGM5ZmEwZTgwZmM5M2YyNDU0NS0xZjY4ZDc1ZjMyOTdhNzllZDgwYjQ5NGEzNWVmOTdlYi90aWxlcy97en0ve3h9L3t5fScsCiAgICAgICAgewogICAgICAgICJhdHRyaWJ1dGlvbiI6ICJNYXAgRGF0YSBcdTAwYTkgR29vZ2xlIEVhcnRoIEVuZ2luZSIsCiAgICAgICAgImRldGVjdFJldGluYSI6IGZhbHNlLAogICAgICAgICJtYXhOYXRpdmVab29tIjogMTgsCiAgICAgICAgIm1heFpvb20iOiAxOCwKICAgICAgICAibWluWm9vbSI6IDAsCiAgICAgICAgIm5vV3JhcCI6IGZhbHNlLAogICAgICAgICJvcGFjaXR5IjogMSwKICAgICAgICAic3ViZG9tYWlucyI6ICJhYmMiLAogICAgICAgICJ0bXMiOiBmYWxzZQp9KS5hZGRUbyhtYXBfYmE1MzY3NzkwZjU0NDQzNGE2ZDYzYTY2MzliYmJmOTQpOwogICAgdmFyIHRpbGVfbGF5ZXJfZTY3ZTEyZDI2Yzg1NDIyNDljMWZlMDg5NzI5NjU3NzYgPSBMLnRpbGVMYXllcigKICAgICAgICAnaHR0cHM6Ly9lYXJ0aGVuZ2luZS5nb29nbGVhcGlzLmNvbS92MWFscGhhL3Byb2plY3RzL2VhcnRoZW5naW5lLWxlZ2FjeS9tYXBzL2E0OWY4N2U5OTdlZTJlNTJkMzE5ZGNkNWI4OTdhNzA4LWQwNTA3MzQ3YWIxNTRhOGUzYzcyOWJlMmMxNzFmNDhhL3RpbGVzL3t6fS97eH0ve3l9JywKICAgICAgICB7CiAgICAgICAgImF0dHJpYnV0aW9uIjogIk1hcCBEYXRhIFx1MDBhOSBHb29nbGUgRWFydGggRW5naW5lIiwKICAgICAgICAiZGV0ZWN0UmV0aW5hIjogZmFsc2UsCiAgICAgICAgIm1heE5hdGl2ZVpvb20iOiAxOCwKICAgICAgICAibWF4Wm9vbSI6IDE4LAogICAgICAgICJtaW5ab29tIjogMCwKICAgICAgICAibm9XcmFwIjogZmFsc2UsCiAgICAgICAgIm9wYWNpdHkiOiAxLAogICAgICAgICJzdWJkb21haW5zIjogImFiYyIsCiAgICAgICAgInRtcyI6IGZhbHNlCn0pLmFkZFRvKG1hcF9iYTUzNjc3OTBmNTQ0NDM0YTZkNjNhNjYzOWJiYmY5NCk7CiAgICB2YXIgdGlsZV9sYXllcl9lZmFlMGE5YTU1MGU0NTgxYjZiMDA3YjJkOWE2OWU0YiA9IEwudGlsZUxheWVyKAogICAgICAgICdodHRwczovL2VhcnRoZW5naW5lLmdvb2dsZWFwaXMuY29tL3YxYWxwaGEvcHJvamVjdHMvZWFydGhlbmdpbmUtbGVnYWN5L21hcHMvNDFmMDkwM2RkYTRmMGM4MjBhODJmNmE3ZjY2NzMzNWUtODUyNmZjNTU0ZDg5MzdkMTBmZGQzOTFlODlhMTVmNWYvdGlsZXMve3p9L3t4fS97eX0nLAogICAgICAgIHsKICAgICAgICAiYXR0cmlidXRpb24iOiAiTWFwIERhdGEgXHUwMGE5IEdvb2dsZSBFYXJ0aCBFbmdpbmUiLAogICAgICAgICJkZXRlY3RSZXRpbmEiOiBmYWxzZSwKICAgICAgICAibWF4TmF0aXZlWm9vbSI6IDE4LAogICAgICAgICJtYXhab29tIjogMTgsCiAgICAgICAgIm1pblpvb20iOiAwLAogICAgICAgICJub1dyYXAiOiBmYWxzZSwKICAgICAgICAib3BhY2l0eSI6IDEsCiAgICAgICAgInN1YmRvbWFpbnMiOiAiYWJjIiwKICAgICAgICAidG1zIjogZmFsc2UKfSkuYWRkVG8obWFwX2JhNTM2Nzc5MGY1NDQ0MzRhNmQ2M2E2NjM5YmJiZjk0KTsKPC9zY3JpcHQ+ onload=\"this.contentDocument.open();this.contentDocument.write(atob(this.getAttribute('data-html')));this.contentDocument.close();\" allowfullscreen webkitallowfullscreen mozallowfullscreen></iframe></div></div>"
            ],
            "text/plain": [
              "<folium.folium.Map at 0x7ff3757d1080>"
            ]
          },
          "metadata": {
            "tags": []
          }
        }
      ]
    },
    {
      "cell_type": "code",
      "metadata": {
        "id": "Cd8rBzK2D1dL",
        "colab_type": "code",
        "colab": {
          "base_uri": "https://localhost:8080/",
          "height": 579
        },
        "outputId": "0258da3e-c28c-46fa-ff41-d5c397a47eb1"
      },
      "source": [
        "for image in image_list:\n",
        "  classified = training(image)\n",
        "  my_map.add_ee_layer(classified, {'min': 0, 'max': 1, 'palette': ['white', 'blue']}, 'water')\n",
        "\n",
        "display(my_map)"
      ],
      "execution_count": 23,
      "outputs": [
        {
          "output_type": "display_data",
          "data": {
            "text/html": [
              "<div style=\"width:100%;\"><div style=\"position:relative;width:100%;height:0;padding-bottom:60%;\"><span style=\"color:#565656\">Make this Notebook Trusted to load map: File -> Trust Notebook</span><iframe src=\"about:blank\" style=\"position:absolute;width:100%;height:100%;left:0;top:0;border:none !important;\" data-html=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 onload=\"this.contentDocument.open();this.contentDocument.write(atob(this.getAttribute('data-html')));this.contentDocument.close();\" allowfullscreen webkitallowfullscreen mozallowfullscreen></iframe></div></div>"
            ],
            "text/plain": [
              "<folium.folium.Map at 0x7ff3757d1080>"
            ]
          },
          "metadata": {
            "tags": []
          }
        }
      ]
    },
    {
      "cell_type": "markdown",
      "metadata": {
        "id": "G8x6wEJu60-V",
        "colab_type": "text"
      },
      "source": [
        "Right now, not optimized for viewing, i'm just overlaying each classification over the other. Will fix later, but here's the basic idea for supervised classification applied to several images.\n",
        "\n",
        "Also not sure why the base image is black!"
      ]
    }
  ]
}